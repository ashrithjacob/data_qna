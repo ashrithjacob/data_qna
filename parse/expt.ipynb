{
 "cells": [
  {
   "cell_type": "code",
   "execution_count": null,
   "metadata": {},
   "outputs": [],
   "source": [
    "import nest_asyncio\n",
    "nest_asyncio.apply()\n",
    "\n",
    "docs_dir = \"/home/ash/github/RAG/docs/humana_test_docs/\"\n",
    "papers = [\"Humana-H0028-034-000-SB-EN-2023-SF20220922.pdf\"]"
   ]
  }
 ],
 "metadata": {
  "language_info": {
   "name": "python"
  }
 },
 "nbformat": 4,
 "nbformat_minor": 2
}
